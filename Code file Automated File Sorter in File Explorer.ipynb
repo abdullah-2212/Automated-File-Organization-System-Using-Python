{
 "cells": [
  {
   "cell_type": "code",
   "execution_count": 1,
   "id": "995cc27b-7dc7-4ff9-9b0d-7b2ccb04faf3",
   "metadata": {},
   "outputs": [],
   "source": [
    "import os, shutil\n",
    "#Shutil module allows you to do high-level operations on a file, such as copy, create, and remote operations\n",
    "#os stands for operating system and shutil will allow us to perform high level operations on our files in file explorer"
   ]
  },
  {
   "cell_type": "code",
   "execution_count": 31,
   "id": "19d1302a-ead4-4694-94c9-475a7bbf1164",
   "metadata": {},
   "outputs": [],
   "source": [
    "path = r\"C:/Users/friends/Desktop/DATA ANALYSIS/PYTHON/PANDAS IN PYTHON Raw data/Data to import in pands/\"\n",
    "# Here we will define the path of our files and r represent (raw string)so it wont read slashes in the string\n"
   ]
  },
  {
   "cell_type": "code",
   "execution_count": 13,
   "id": "0b22afd1-475a-411e-99c7-ee217cebbc6a",
   "metadata": {},
   "outputs": [
    {
     "data": {
      "text/plain": [
       "['countries of the world.txt',\n",
       " 'json_sample.json',\n",
       " 'kjh.PNG',\n",
       " 'world_population_excel_workbook.xlsx']"
      ]
     },
     "execution_count": 13,
     "metadata": {},
     "output_type": "execute_result"
    }
   ],
   "source": [
    "os.listdir(path)\n",
    "#get the list of all files and directories in the specified directory\n",
    "# show us files with in the path as well as their type"
   ]
  },
  {
   "cell_type": "code",
   "execution_count": 33,
   "id": "64174325-318b-48d6-a203-3838be941c04",
   "metadata": {},
   "outputs": [],
   "source": [
    "file_name = os.listdir(path)\n",
    "# show us the files within the path"
   ]
  },
  {
   "cell_type": "code",
   "execution_count": 35,
   "id": "5c050e5a-dab8-4e9e-9d4a-fbbe54cc3e94",
   "metadata": {},
   "outputs": [],
   "source": [
    "# creating folders for the files\n",
    "folder_names = ['json files','image files', 'text files', 'excel files']\n",
    "\n",
    "for loop in range(0,4):\n",
    "    if not os.path.exists(path + folder_names[loop]):\n",
    "        #print(path + folder_names[loop])\n",
    "        os.makedirs(path + folder_names[loop])"
   ]
  },
  {
   "cell_type": "code",
   "execution_count": 37,
   "id": "a00aebcf-0773-4075-9d13-44586fe394bc",
   "metadata": {},
   "outputs": [],
   "source": [
    "# moving the files in to the created folders\n",
    "for file in file_name:\n",
    "    if \".json\" in file and not os.path.exists(path + \"json files/\" + file):\n",
    "        shutil.move(path + file, path + \"json files/\" + file)\n",
    "    elif \".PNG\" in file and not os.path.exists(path + \"image files/\" + file):\n",
    "        shutil.move(path + file, path + \"image files/\" + file)\n",
    "    elif \".txt\" in file and not os.path.exists(path + \"text files/\" + file):\n",
    "        shutil.move(path + file, path + \"text files/\" + file)\n",
    "    elif \".xlsx\" in file and not os.path.exists(path + \"excel files/\" + file):\n",
    "        shutil.move(path + file, path + \"excel files/\" + file)"
   ]
  },
  {
   "cell_type": "code",
   "execution_count": null,
   "id": "a3b5c236-8b92-478d-a013-a6c2b8ad14aa",
   "metadata": {},
   "outputs": [],
   "source": []
  }
 ],
 "metadata": {
  "kernelspec": {
   "display_name": "Python 3 (ipykernel)",
   "language": "python",
   "name": "python3"
  },
  "language_info": {
   "codemirror_mode": {
    "name": "ipython",
    "version": 3
   },
   "file_extension": ".py",
   "mimetype": "text/x-python",
   "name": "python",
   "nbconvert_exporter": "python",
   "pygments_lexer": "ipython3",
   "version": "3.12.4"
  }
 },
 "nbformat": 4,
 "nbformat_minor": 5
}
